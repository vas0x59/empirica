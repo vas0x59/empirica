{
 "cells": [
  {
   "cell_type": "code",
   "execution_count": 2133,
   "metadata": {},
   "outputs": [],
   "source": [
    "import numpy as np\n",
    "import pandas as pd\n",
    "import matplotlib.pyplot as plt\n",
    "import yaml\n",
    "import cv2\n",
    "import struct"
   ]
  },
  {
   "cell_type": "code",
   "execution_count": 2134,
   "metadata": {},
   "outputs": [],
   "source": [
    "exp_dir = \"../experiments/rocket/nov_28/t1\""
   ]
  },
  {
   "cell_type": "code",
   "execution_count": 2135,
   "metadata": {},
   "outputs": [],
   "source": [
    "desc = yaml.load(open(exp_dir + \"/desc.yaml\"), yaml.Loader)"
   ]
  },
  {
   "cell_type": "code",
   "execution_count": 2136,
   "metadata": {},
   "outputs": [],
   "source": [
    "def opencv_matrix(loader, node):\n",
    "    mapping = loader.construct_mapping(node, deep=True)\n",
    "    mat = np.array(mapping[\"data\"])\n",
    "    mat.resize(mapping[\"rows\"], mapping[\"cols\"])\n",
    "    return mat\n",
    "\n",
    "def load_camera_k_d(path):\n",
    "    t = open(path, \"r\").read()\n",
    "    t = t.replace(\"%YAML:1.0\", \"\")\n",
    "    yaml.add_constructor(u\"tag:yaml.org,2002:opencv-matrix\", opencv_matrix)\n",
    "    return (lambda x: (x[\"K\"], x[\"D\"][0], (x[\"cam_width\"], x[\"cam_height\"])))(yaml.load(t, Loader=yaml.FullLoader))\n",
    "\n"
   ]
  },
  {
   "cell_type": "code",
   "execution_count": 2137,
   "metadata": {},
   "outputs": [],
   "source": [
    "calib_0 = load_camera_k_d(\"calibs/\" + desc[\"camera_0\"] + \".yaml\")\n",
    "calib_1 = load_camera_k_d(\"calibs/\" + desc[\"camera_1\"] + \".yaml\")"
   ]
  },
  {
   "cell_type": "code",
   "execution_count": 2138,
   "metadata": {},
   "outputs": [],
   "source": [
    "# f = open(sys.argv[1], \"rb\")\n",
    "def load_logger_data(p) -> pd.DataFrame:\n",
    "    f = open(p, \"rb\")\n",
    "    data = []\n",
    "    N = 4 + 4*10\n",
    "    while True:\n",
    "        b = f.read(N)\n",
    "        if b is None:\n",
    "            break\n",
    "        if len(b) != N:\n",
    "            break\n",
    "        # print(b)\n",
    "        data.append(struct.unpack(\"<Lffffffffff\", b))\n",
    "    f = open(\"out.csv\", \"w\")\n",
    "    f.write(\"T ms, P pa\\n\")\n",
    "    for i in data:\n",
    "        f.write(f\"{i[0]},{i[-1]}\\n\")\n",
    "    # print(data, len(data))  \n",
    "\n",
    "    D = np.array([i for i in data])\n",
    "    D[:, 0] /= 1000\n",
    "    df = pd.DataFrame(D, columns=[\"t\", \"gx\", \"gy\", \"gz\", \"ax\", \"ay\", \"az\", \"mx\", \"my\", \"mz\", \"P\"])\n",
    "    df[\"h\"] = -np.log(df[\"P\"]) *8.31*(273.15 + desc[\"T\"])/9.8/(29/1000)\n",
    "    df[\"h\"] -= df[\"h\"].iloc[:4].mean()\n",
    "    return df"
   ]
  },
  {
   "cell_type": "code",
   "execution_count": 2139,
   "metadata": {},
   "outputs": [
    {
     "data": {
      "text/plain": [
       "['light_1_a', 'light_1_b', 'light_2_a', 'light_2_b']"
      ]
     },
     "execution_count": 2139,
     "metadata": {},
     "output_type": "execute_result"
    }
   ],
   "source": [
    "markers = list(desc[\"markers\"].keys())\n",
    "markers"
   ]
  },
  {
   "cell_type": "code",
   "execution_count": 2140,
   "metadata": {},
   "outputs": [
    {
     "data": {
      "text/plain": [
       "array([[ 0.  ,  0.  ,  0.  ],\n",
       "       [ 0.  ,  0.  ,  4.43],\n",
       "       [12.5 ,  0.  ,  0.  ],\n",
       "       [12.5 ,  0.  ,  4.43]])"
      ]
     },
     "execution_count": 2140,
     "metadata": {},
     "output_type": "execute_result"
    }
   ],
   "source": [
    "markers_obj_pnts = np.array([desc[\"markers\"][m][\"pnt\"] for m in markers])\n",
    "markers_obj_pnts"
   ]
  },
  {
   "cell_type": "code",
   "execution_count": 2141,
   "metadata": {},
   "outputs": [],
   "source": [
    "def get_track_path(v):\n",
    "    return \".\".join(v.split(\".\")[:-1]) + \".txt\""
   ]
  },
  {
   "cell_type": "code",
   "execution_count": 2142,
   "metadata": {},
   "outputs": [],
   "source": [
    "def load_track_txt(track_txt_path, calib) -> pd.DataFrame:\n",
    "    # track_txt_path = \"../experiments/rocket/nov_28/t1/VID_20241129_011318_2.txt\"\n",
    "    f = open(track_txt_path, \"r\")\n",
    "    f.readline()\n",
    "    l1 = f.readline()[:-2]\n",
    "    l2 = f.readline()[:-2] # x = -y\n",
    "    track_names = [i for i in l1.split(\"\\t\") if i != \"\"]\n",
    "    columns = l2.split(\"\\t\")\n",
    "\n",
    "    cn_per_track = int( (len(columns) - 1) / len(track_names) )\n",
    "\n",
    "    for i in range(1, len(columns)):\n",
    "        columns[i] = track_names[(i-1)//cn_per_track] + \"__\" + columns[i]\n",
    "\n",
    "\n",
    "    data = np.array([[float('nan') if j == \"\" else float(j.strip())  for j in i[:-1].split(\"\\t\")]for i in f.readlines()])\n",
    "\n",
    "    df = pd.DataFrame(data, columns=columns)\n",
    "    # df.copy()\n",
    "    for tn in track_names:\n",
    "        df[tn + \"__pixelx\"], df[tn + \"__pixely\"] = df[tn + \"__pixely\"], calib[2][1] -df[tn + \"__pixelx\"]\n",
    "    # df[\"px\"] = df[\"\"]\n",
    "    return df"
   ]
  },
  {
   "cell_type": "code",
   "execution_count": 2143,
   "metadata": {},
   "outputs": [],
   "source": [
    "def interpolate_markers(df) -> pd.DataFrame:\n",
    "    out = df.copy()\n",
    "    out[[i for i in df.columns if \"light\" in i]] = out[[i for i in out.columns if \"light\" in i]].interpolate(method=\"linear\", limit_direction=\"both\")\n",
    "    return out\n",
    "def interpolate_rocket(df, limit=15) -> pd.DataFrame:\n",
    "    out = df.copy()\n",
    "    out[[i for i in df.columns if \"A_\" in i]] = out[[i for i in out.columns if \"A_\" in i]].interpolate(method=\"linear\", limit_direction=\"backward\", limit=limit)\n",
    "    return out"
   ]
  },
  {
   "cell_type": "code",
   "execution_count": 2144,
   "metadata": {},
   "outputs": [],
   "source": [
    "def interpolate_data_frame_to_new_t(df, t_new) -> pd.DataFrame:\n",
    "    return pd.DataFrame({\n",
    "        c: np.interp(t_new, df[\"t\"], df[c])\n",
    "        for c in df.columns\n",
    "    })"
   ]
  },
  {
   "cell_type": "code",
   "execution_count": 2145,
   "metadata": {},
   "outputs": [],
   "source": [
    "def get_marker_img_pnts(df: pd.DataFrame) -> np.ndarray:\n",
    "    xx = np.expand_dims(df[[m + \"__pixelx\" for m in markers]].to_numpy(), axis=2)\n",
    "    yy = np.expand_dims(df[[m + \"__pixely\" for m in markers]].to_numpy(), axis=2)\n",
    "    return np.concatenate([xx, yy], axis=2)\n",
    "\n",
    "def get_track_img_pnt(df: pd.DataFrame, track=\"A\") -> np.ndarray:\n",
    "    return df[[track+\"__pixelx\", track+\"__pixely\"]].to_numpy()\n"
   ]
  },
  {
   "cell_type": "code",
   "execution_count": 2146,
   "metadata": {},
   "outputs": [],
   "source": [
    "def calculate_camera_pose(marker_img, calib):\n",
    "    ret, rvec, tvec = cv2.solvePnP(markers_obj_pnts.astype(np.float64), marker_img.astype(np.float64), \n",
    "                                   calib[0].astype(np.float64), calib[1].astype(np.float64), \n",
    "                                           flags=cv2.SOLVEPNP_IPPE\n",
    "                                           )\n",
    "\n",
    "    print(\"ret\", ret, \"rvec\", rvec, \"tvec\", tvec)\n",
    "    R, _ = cv2.Rodrigues(rvec)\n",
    "    # if R[2, 2] > 0:\n",
    "    #     print(\"R[2, 2] > 0\")\n",
    "    #     R = R @ np.array([\n",
    "    #         [0, -1, 0],\n",
    "    #         [-1, 0, 0],\n",
    "    #         [0, 0, -1]\n",
    "    #     ])\n",
    "    \n",
    "    T_cm = np.eye(4, 4); T_cm[:3, :3] = R; T_cm[:3, 3] = tvec.reshape(3)\n",
    "    return np.linalg.inv(T_cm)"
   ]
  },
  {
   "cell_type": "code",
   "execution_count": 2147,
   "metadata": {},
   "outputs": [],
   "source": [
    "d0 = interpolate_markers(load_track_txt(get_track_path(exp_dir + \"/\" + desc[\"video_0\"]), calib_0))\n",
    "d1 = interpolate_markers(load_track_txt(get_track_path(exp_dir + \"/\" + desc[\"video_1\"]), calib_1))\n",
    "d0 = interpolate_rocket(d0)\n",
    "d1 = interpolate_rocket(d1)\n",
    "\n",
    "dl = load_logger_data(exp_dir + \"/\" + desc[\"data\"])\n",
    "\n",
    "\n",
    "d0[\"t\"] -= desc[\"manual_t0_0\"]\n",
    "d1[\"t\"] -= desc[\"manual_t0_1\"]\n",
    "dl[\"t\"] -= desc[\"manual_t0_data\"]\n",
    "\n"
   ]
  },
  {
   "cell_type": "code",
   "execution_count": 2148,
   "metadata": {},
   "outputs": [],
   "source": [
    "interp_range =[max([-0.1, d0[\"t\"].min(), d1[\"t\"].min()]), max(d0[\"t\"].max(),d1[\"t\"].max())]"
   ]
  },
  {
   "cell_type": "code",
   "execution_count": 2149,
   "metadata": {},
   "outputs": [],
   "source": [
    "# dt = \n",
    "t_new = np.arange(interp_range[0], interp_range[1], 0.01)"
   ]
  },
  {
   "cell_type": "code",
   "execution_count": 2150,
   "metadata": {},
   "outputs": [],
   "source": [
    "d0_new_t = interpolate_data_frame_to_new_t(d0, t_new)\n",
    "d1_new_t = interpolate_data_frame_to_new_t(d1, t_new)\n",
    "\n",
    "dl_new_t = interpolate_data_frame_to_new_t(dl, t_new)"
   ]
  },
  {
   "cell_type": "code",
   "execution_count": 2151,
   "metadata": {},
   "outputs": [],
   "source": [
    "# d0[\"bench_1__pixely\"]"
   ]
  },
  {
   "cell_type": "code",
   "execution_count": 2152,
   "metadata": {},
   "outputs": [],
   "source": [
    "m0 = get_marker_img_pnts(d0_new_t)\n",
    "m1 = get_marker_img_pnts(d1_new_t)"
   ]
  },
  {
   "cell_type": "code",
   "execution_count": 2153,
   "metadata": {},
   "outputs": [],
   "source": [
    "A0 = get_track_img_pnt(d0_new_t)\n",
    "A1 = get_track_img_pnt(d1_new_t)"
   ]
  },
  {
   "cell_type": "code",
   "execution_count": 2154,
   "metadata": {},
   "outputs": [
    {
     "data": {
      "image/png": "[encoded data removed]",
      "text/plain": [
       "<Figure size 640x480 with 1 Axes>"
      ]
     },
     "metadata": {},
     "output_type": "display_data"
    },
    {
     "data": {
      "image/png": "[encoded data removed]",
      "text/plain": [
       "<Figure size 640x480 with 1 Axes>"
      ]
     },
     "metadata": {},
     "output_type": "display_data"
    }
   ],
   "source": [
    "# plt.figure(figsize=(1, 5))\n",
    "def _():\n",
    "    d0 = d0_new_t\n",
    "    plt.gca().axis('equal')\n",
    "    plt.scatter(d0[\"A__pixelx\"], d0[\"A__pixely\"], marker=\"x\", c=d0[\"t\"], cmap=\"plasma\")\n",
    "    plt.scatter(d0[\"light_1_a__pixelx\"], d0[\"light_1_a__pixely\"], marker=\"o\", c=\"g\")\n",
    "    plt.scatter(d0[\"light_1_b__pixelx\"], d0[\"light_1_b__pixely\"], marker=\"x\", c=\"g\")\n",
    "    plt.scatter(d0[\"light_2_a__pixelx\"], d0[\"light_2_a__pixely\"], marker=\"o\", c=\"b\")\n",
    "    plt.scatter(d0[\"light_2_b__pixelx\"], d0[\"light_2_b__pixely\"], marker=\"x\", c=\"b\")\n",
    "    plt.gca().invert_yaxis()\n",
    "_()\n",
    "plt.figure()\n",
    "def _():\n",
    "    d0 = d1_new_t\n",
    "    plt.gca().axis('equal')\n",
    "    plt.scatter(d0[\"A__pixelx\"], d0[\"A__pixely\"], marker=\"x\", c=d0[\"t\"], cmap=\"plasma\")\n",
    "    plt.scatter(d0[\"light_1_a__pixelx\"], d0[\"light_1_a__pixely\"], marker=\"o\", c=\"g\")\n",
    "    plt.scatter(d0[\"light_1_b__pixelx\"], d0[\"light_1_b__pixely\"], marker=\"x\", c=\"g\")\n",
    "    plt.scatter(d0[\"light_2_a__pixelx\"], d0[\"light_2_a__pixely\"], marker=\"o\", c=\"b\")\n",
    "    plt.scatter(d0[\"light_2_b__pixelx\"], d0[\"light_2_b__pixely\"], marker=\"x\", c=\"b\")\n",
    "    plt.gca().invert_yaxis()\n",
    "_()"
   ]
  },
  {
   "cell_type": "code",
   "execution_count": 2155,
   "metadata": {},
   "outputs": [
    {
     "data": {
      "text/plain": [
       "442.4"
      ]
     },
     "execution_count": 2155,
     "metadata": {},
     "output_type": "execute_result"
    }
   ],
   "source": [
    "d0[\"bench_1__pixely\"].dropna().iloc[0]"
   ]
  },
  {
   "cell_type": "code",
   "execution_count": 2156,
   "metadata": {},
   "outputs": [],
   "source": [
    "b1_0 = np.array([d0[\"bench_1__pixelx\"].dropna().iloc[0], d0[\"bench_1__pixely\"].dropna().iloc[0]])\n",
    "b1_1 = np.array([d1[\"bench_1__pixelx\"].dropna().iloc[0], d1[\"bench_1__pixely\"].dropna().iloc[0]])\n",
    "b2_0 = np.array([d0[\"bench_2__pixelx\"].dropna().iloc[0], d0[\"bench_2__pixely\"].dropna().iloc[0]])\n",
    "b2_1 = np.array([d1[\"bench_2__pixelx\"].dropna().iloc[0], d1[\"bench_2__pixely\"].dropna().iloc[0]])"
   ]
  },
  {
   "cell_type": "code",
   "execution_count": 2157,
   "metadata": {},
   "outputs": [],
   "source": [
    "# 1d0[\"bench_1__pixelx\"].dropna()"
   ]
  },
  {
   "cell_type": "code",
   "execution_count": 2158,
   "metadata": {},
   "outputs": [
    {
     "name": "stdout",
     "output_type": "stream",
     "text": [
      "ret True rvec [[ 0.31099897]\n",
      " [-1.15139011]\n",
      " [-0.47050203]] tvec [[10.92021866]\n",
      " [ 3.51377463]\n",
      " [24.68630444]]\n"
     ]
    }
   ],
   "source": [
    "T_c0 = calculate_camera_pose(m0[10], calib_0)"
   ]
  },
  {
   "cell_type": "code",
   "execution_count": 2159,
   "metadata": {},
   "outputs": [
    {
     "data": {
      "text/plain": [
       "array([-21.46510377, -16.72721827,   0.67889927])"
      ]
     },
     "execution_count": 2159,
     "metadata": {},
     "output_type": "execute_result"
    }
   ],
   "source": [
    "T_c0[:3, 3]"
   ]
  },
  {
   "cell_type": "code",
   "execution_count": 2160,
   "metadata": {},
   "outputs": [
    {
     "data": {
      "text/plain": [
       "array([-17.15766769,  18.23597775,   2.72775361])"
      ]
     },
     "execution_count": 2160,
     "metadata": {},
     "output_type": "execute_result"
    }
   ],
   "source": [
    "T_c1[:3, 3]"
   ]
  },
  {
   "cell_type": "code",
   "execution_count": 2161,
   "metadata": {},
   "outputs": [
    {
     "name": "stdout",
     "output_type": "stream",
     "text": [
      "ret True rvec [[-0.51847214]\n",
      " [-1.26275182]\n",
      " [ 0.65245512]] tvec [[ 8.47957077]\n",
      " [-1.02061774]\n",
      " [23.69456275]]\n"
     ]
    }
   ],
   "source": [
    "T_c1 = calculate_camera_pose(m1[10], calib_1)"
   ]
  },
  {
   "cell_type": "code",
   "execution_count": 2162,
   "metadata": {},
   "outputs": [
    {
     "data": {
      "text/plain": [
       "27.213057724593497"
      ]
     },
     "execution_count": 2162,
     "metadata": {},
     "output_type": "execute_result"
    }
   ],
   "source": [
    "np.linalg.norm(T_c0[:3, 3][:2])"
   ]
  },
  {
   "cell_type": "code",
   "execution_count": 2163,
   "metadata": {},
   "outputs": [
    {
     "data": {
      "text/plain": [
       "25.03869895033182"
      ]
     },
     "execution_count": 2163,
     "metadata": {},
     "output_type": "execute_result"
    }
   ],
   "source": [
    "np.linalg.norm(T_c1[:3, 3][:2])"
   ]
  },
  {
   "cell_type": "code",
   "execution_count": 2164,
   "metadata": {},
   "outputs": [],
   "source": [
    "def find_point_near_2rays(ray1_origin, ray1_vector, ray2_origin, ray2_vector) -> np.ndarray:\n",
    "    # some geometry here\n",
    "    R = ray1_origin.reshape(3, 1)\n",
    "    S = ray2_origin.reshape(3, 1)\n",
    "    r = ray1_vector.reshape(3, 1)\n",
    "    s = ray2_vector.reshape(3, 1)\n",
    "    c1 = (r.T @ r)[0][0]\n",
    "    c2 = -(r.T @ s)[0][0]\n",
    "    d1 = -c2\n",
    "    d2 = -(s.T @ s)[0][0]\n",
    "    c3 = -((R-S).T @ r)[0][0]\n",
    "    d3 = -((R-S).T @ s)[0][0]\n",
    "    albe = np.linalg.inv(np.array([[c1, c2], [d1, d2]])) @ np.array([[c3], [d3]])\n",
    "    # print(albe)\n",
    "    al, be = albe.T.flatten()\n",
    "    point = np.array(((al * r + R) + (be * s + S)) / 2).reshape(3)\n",
    "\n",
    "    # r = np.matrix(ray1_vector).T; q = np.matrix(ray1_origin).T; s = np.matrix(ray2_vector).T; p = np.matrix(ray2_origin).T\n",
    "    # rrss = np.hstack([np.vstack([(r.T @ r), (r.T @ s)]), np.vstack([-(s.T @ r), -(s.T @ s)])])\n",
    "    # u = np.array(np.linalg.pinv(rrss) @ np.matrix((np.array([[(p - q).T], [(p - q).T]]) @ np.array([[r], [s]]))).T).T[0]\n",
    "    # point = np.array(((u[0] * r + q) + (u[1] * s + p)) / 2).reshape(3)\n",
    "\n",
    "    return point"
   ]
  },
  {
   "cell_type": "code",
   "execution_count": 2165,
   "metadata": {},
   "outputs": [],
   "source": [
    "def find_ray(T_c, calib, uv):\n",
    "    vec = np.array([*cv2.undistortPoints(\n",
    "        np.array(np.array(uv).reshape(2, 1),dtype=\"float64\"),\n",
    "        calib[0],\n",
    "        calib[1],\n",
    "    ).reshape(2), 1])\n",
    "\n",
    "    return T_c[:3, 3], T_c[:3, :3] @ vec"
   ]
  },
  {
   "cell_type": "code",
   "execution_count": 2166,
   "metadata": {},
   "outputs": [],
   "source": [
    "def find_point(p0, p1):\n",
    "    o0, v0 = find_ray(T_c0, calib_0, p0)\n",
    "    o1, v1 = find_ray(T_c1, calib_1, p1)\n",
    "    return find_point_near_2rays(o0, v0, o1, v1)"
   ]
  },
  {
   "cell_type": "code",
   "execution_count": 2167,
   "metadata": {},
   "outputs": [],
   "source": [
    "bench_1_p = find_point(b1_0, b1_1)\n",
    "bench_2_p = find_point(b2_0, b2_1)"
   ]
  },
  {
   "cell_type": "code",
   "execution_count": 2168,
   "metadata": {},
   "outputs": [
    {
     "data": {
      "text/plain": [
       "<matplotlib.legend.Legend at 0x72e68f5d8bd0>"
      ]
     },
     "execution_count": 2168,
     "metadata": {},
     "output_type": "execute_result"
    },
    {
     "data": {
      "image/png": "[encoded data removed]",
      "text/plain": [
       "<Figure size 640x480 with 1 Axes>"
      ]
     },
     "metadata": {},
     "output_type": "display_data"
    }
   ],
   "source": [
    "plt.scatter([T_c0[:3, 3][0]], [T_c0[:3, 3][1]], label=\"0\")\n",
    "plt.scatter([T_c1[:3, 3][0]], [T_c1[:3, 3][1]], label=\"1\")\n",
    "plt.scatter([bench_1_p[0]], [bench_1_p[1]])\n",
    "plt.scatter([bench_2_p[0]], [bench_2_p[1]])\n",
    "plt.scatter([0], [0])\n",
    "plt.gca().axis('equal')\n",
    "plt.legend()"
   ]
  },
  {
   "cell_type": "code",
   "execution_count": 2169,
   "metadata": {},
   "outputs": [
    {
     "data": {
      "text/plain": [
       "4.867959491298276"
      ]
     },
     "execution_count": 2169,
     "metadata": {},
     "output_type": "execute_result"
    }
   ],
   "source": [
    "np.linalg.norm(bench_1_p - bench_2_p)"
   ]
  },
  {
   "cell_type": "code",
   "execution_count": 2170,
   "metadata": {},
   "outputs": [],
   "source": [
    "pnts = []\n",
    "NN = len(A0)//3\n",
    "for N in range(NN):\n",
    "    pnts.append(find_point(A0[N], A1[N]))\n",
    "pnts = np.array(pnts)"
   ]
  },
  {
   "cell_type": "code",
   "execution_count": 2171,
   "metadata": {},
   "outputs": [],
   "source": [
    "# o0, v0 = find_ray(T_c0, calib_0, b1_0[N])\n",
    "# o1, v1 = find_ray(T_c1, calib_1, A1[N])\n",
    "# pnts.append(find_point_near_2rays(o0, v0, o1, v1))"
   ]
  },
  {
   "cell_type": "code",
   "execution_count": 2172,
   "metadata": {},
   "outputs": [
    {
     "data": {
      "text/plain": [
       "[<matplotlib.lines.Line2D at 0x72e650d24590>]"
      ]
     },
     "execution_count": 2172,
     "metadata": {},
     "output_type": "execute_result"
    },
    {
     "data": {
      "image/png": "[encoded data removed]",
      "text/plain": [
       "<Figure size 640x480 with 1 Axes>"
      ]
     },
     "metadata": {},
     "output_type": "display_data"
    }
   ],
   "source": [
    "plt.plot(t_new[:NN], pnts[:, 2] - pnts[0, 2], c=\"green\")\n",
    "plt.plot(t_new[:NN], d0_new_t[\"A__x\"][:NN], c=\"r\")\n",
    "plt.plot(t_new[:NN], d1_new_t[\"A__x\"][:NN], c=\"b\")\n",
    "plt.plot(dl_new_t[\"t\"], dl_new_t[\"h\"], c=\"orange\")\n"
   ]
  },
  {
   "cell_type": "code",
   "execution_count": 2173,
   "metadata": {},
   "outputs": [],
   "source": [
    "# plt.scatter(combo[\"t\"], (combo[\"track_x\"]**2 + combo[\"track_y\"]**2)**0.5)"
   ]
  },
  {
   "cell_type": "code",
   "execution_count": 2174,
   "metadata": {},
   "outputs": [],
   "source": [
    "combo = dl_new_t.copy()\n",
    "combo[\"track_x\"] = float('nan')\n",
    "combo[\"track_y\"] = float('nan')\n",
    "combo[\"track_z\"] = float('nan')\n",
    "\n",
    "combo[\"track_x\"].iloc[:len(pnts)] = pnts[:, 0] \n",
    "combo[\"track_y\"].iloc[:len(pnts)] = pnts[:, 1]\n",
    "combo[\"track_z\"].iloc[:len(pnts)] = pnts[:, 2]- pnts[0, 2]"
   ]
  },
  {
   "cell_type": "code",
   "execution_count": 2175,
   "metadata": {},
   "outputs": [],
   "source": [
    "import os\n",
    "import sys"
   ]
  },
  {
   "cell_type": "code",
   "execution_count": 2176,
   "metadata": {},
   "outputs": [],
   "source": [
    "os.makedirs(exp_dir+\"/out\", exist_ok=True)\n",
    "combo.to_csv(exp_dir + \"/out/combined.csv\")"
   ]
  },
  {
   "cell_type": "code",
   "execution_count": 2177,
   "metadata": {},
   "outputs": [
    {
     "data": {
      "text/plain": [
       "(222,)"
      ]
     },
     "execution_count": 2177,
     "metadata": {},
     "output_type": "execute_result"
    }
   ],
   "source": [
    "pnts[:, 1].shape"
   ]
  },
  {
   "cell_type": "code",
   "execution_count": 2178,
   "metadata": {},
   "outputs": [
    {
     "data": {
      "text/plain": [
       "<matplotlib.collections.PathCollection at 0x72e6517e6150>"
      ]
     },
     "execution_count": 2178,
     "metadata": {},
     "output_type": "execute_result"
    },
    {
     "data": {
      "image/png": "[encoded data removed]",
      "text/plain": [
       "<Figure size 640x480 with 1 Axes>"
      ]
     },
     "metadata": {},
     "output_type": "display_data"
    }
   ],
   "source": [
    "plt.scatter(dl[\"t\"], dl[\"h\"])"
   ]
  },
  {
   "cell_type": "code",
   "execution_count": 2179,
   "metadata": {},
   "outputs": [
    {
     "data": {
      "application/vnd.jupyter.widget-view+json": {
       "model_id": "f5c9c299950e49b9951bd8fde77014c1",
       "version_major": 2,
       "version_minor": 0
      },
      "text/plain": [
       "EmbeddableWidget(value='<iframe srcdoc=\"<!DOCTYPE html>\\n<html>\\n  <head>\\n    <meta http-equiv=&quot;Content-…"
      ]
     },
     "metadata": {},
     "output_type": "display_data"
    }
   ],
   "source": [
    "import pyvista as pv\n",
    "pv.set_jupyter_backend('html')\n",
    "# pv.set_jupyter_backend('trame')\n",
    "pv.global_theme.axes.x_color = 'red'\n",
    "pv.global_theme.axes.y_color = 'green'\n",
    "pv.global_theme.axes.z_color = 'blue'\n",
    "# pv.set_jupyter_backend('client')\n",
    "# pv.global_theme.jupyter_backend = \"panel\"\n",
    "\n",
    "\n",
    "p = pv.Plotter()\n",
    "\n",
    "p.add_text(\"Mesh\", font_size=24)\n",
    "axes = pv.Axes(show_actor=True,actor_scale=2, line_width=5)\n",
    "axes.axes_actor.x_axis_shaft_properties.color = (1, 0, 0)\n",
    "axes.axes_actor.y_axis_shaft_properties.color = (0, 1, 0)\n",
    "axes.axes_actor.z_axis_shaft_properties.color = (0, 0, 1)\n",
    "axes.origin = (0, 0, 0)\n",
    "axes.actor.user_matrix = T_c0\n",
    "p.add_actor(axes.actor)\n",
    "axes = pv.Axes(show_actor=True,actor_scale=2, line_width=5)\n",
    "axes.axes_actor.x_axis_shaft_properties.color = (1, 0, 0)\n",
    "axes.axes_actor.y_axis_shaft_properties.color = (0, 1, 0)\n",
    "axes.axes_actor.z_axis_shaft_properties.color = (0, 0, 1)\n",
    "axes.origin = (0, 0, 0)\n",
    "axes.actor.user_matrix = T_c1\n",
    "p.add_actor(axes.actor)\n",
    "p.add_actor(pv.Axes(show_actor=True,actor_scale=5, line_width=2).actor)\n",
    "\n",
    "# for N in range(40):\n",
    "    \n",
    "#     o, v = find_ray(T_c0, calib_0, A0[N])\n",
    "#     actor = p.add_lines(o + np.array([v*i for i in np.linspace(0, 30, 2)]), color='purple', width=3)\n",
    "\n",
    "#     o, v = find_ray(T_c1, calib_1, A1[N])\n",
    "actor = p.add_points(pnts, color='green')\n",
    "actor = p.add_points(np.array([bench_1_p, bench_2_p]), color='red')\n",
    "# # p.camera = camera\n",
    "# p.add_mesh(mesh)\n",
    "\n",
    "p.show()\n"
   ]
  },
  {
   "cell_type": "code",
   "execution_count": 2180,
   "metadata": {},
   "outputs": [
    {
     "data": {
      "text/plain": [
       "array([[1715. ,  778.3],\n",
       "       [1410. ,  765.9],\n",
       "       [1705. ,  402. ],\n",
       "       [1475. ,  408.1]])"
      ]
     },
     "execution_count": 2180,
     "metadata": {},
     "output_type": "execute_result"
    }
   ],
   "source": [
    "m0[0]"
   ]
  },
  {
   "cell_type": "code",
   "execution_count": null,
   "metadata": {},
   "outputs": [],
   "source": []
  },
  {
   "cell_type": "code",
   "execution_count": null,
   "metadata": {},
   "outputs": [],
   "source": []
  }
 ],
 "metadata": {
  "kernelspec": {
   "display_name": "ros_env",
   "language": "python",
   "name": "python3"
  },
  "language_info": {
   "codemirror_mode": {
    "name": "ipython",
    "version": 3
   },
   "file_extension": ".py",
   "mimetype": "text/x-python",
   "name": "python",
   "nbconvert_exporter": "python",
   "pygments_lexer": "ipython3",
   "version": "3.11.8"
  }
 },
 "nbformat": 4,
 "nbformat_minor": 2
}
